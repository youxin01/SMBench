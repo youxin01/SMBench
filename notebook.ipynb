{
 "cells": [
  {
   "cell_type": "code",
   "execution_count": null,
   "id": "1449d450",
   "metadata": {},
   "outputs": [],
   "source": [
    "import networkx as nx"
   ]
  },
  {
   "cell_type": "code",
   "execution_count": null,
   "id": "bec34350",
   "metadata": {},
   "outputs": [],
   "source": [
    "from tool_code.graph_optimization import dijkstra"
   ]
  },
  {
   "cell_type": "code",
   "execution_count": null,
   "id": "34d2cd13",
   "metadata": {},
   "outputs": [
    {
     "data": {
      "text/html": [
       "<!DOCTYPE HTML PUBLIC \"-//W3C//DTD HTML 4.01 Transitional//EN\" \"http://www.w3.org/TR/html4/loose.dtd\">\n",
       "<html>\n",
       "<head>\n",
       "<meta http-equiv=\"Content-Type\" content=\"text/html; charset=utf-8\">\n",
       "<title></title>\n",
       "<style type=\"text/css\">\n",
       ".ansi2html-content { display: inline; white-space: pre-wrap; word-wrap: break-word; }\n",
       ".body_foreground { color: #AAAAAA; }\n",
       ".body_background { background-color: #000000; }\n",
       ".inv_foreground { color: #000000; }\n",
       ".inv_background { background-color: #AAAAAA; }\n",
       "</style>\n",
       "</head>\n",
       "<body class=\"body_foreground body_background\" style=\"font-size: normal;\" >\n",
       "<pre class=\"ansi2html-content\">\n",
       "从v₁到v₈的最短耗时: 23\n",
       "\n",
       "</pre>\n",
       "</body>\n",
       "\n",
       "</html>\n"
      ]
     },
     "metadata": {},
     "output_type": "display_data"
    }
   ],
   "source": [
    "result = dijkstra(\n",
    "    edges={\n",
    "        (\"v₁\", \"v₂\"): 4,\n",
    "        (\"v₁\", \"v₃\"): 6,\n",
    "        (\"v₂\", \"v₄\"): 5,\n",
    "        (\"v₂\", \"v₅\"): 8,\n",
    "        (\"v₃\", \"v₂\"): 7,\n",
    "        (\"v₃\", \"v₄\"): 4,\n",
    "        (\"v₄\", \"v₅\"): 1,\n",
    "        (\"v₄\", \"v₆\"): 4,\n",
    "        (\"v₅\", \"v₆\"): 8,\n",
    "        (\"v₅\", \"v₇\"): 7,\n",
    "        (\"v₆\", \"v₇\"): 6,\n",
    "        (\"v₇\", \"v₈\"): 6\n",
    "    },\n",
    "    start=\"v₁\",\n",
    "    end=\"v₈\",\n",
    "    directed=True\n",
    ")\n",
    "print(f\"从v₁到v₈的最短耗时: {result}\")"
   ]
  }
 ],
 "metadata": {},
 "nbformat": 4,
 "nbformat_minor": 5
}